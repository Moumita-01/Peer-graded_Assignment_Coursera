{
 "cells": [
  {
   "cell_type": "markdown",
   "id": "4a7911d9",
   "metadata": {},
   "source": [
    "# Data Science Tools And Ecosystem"
   ]
  },
  {
   "cell_type": "markdown",
   "id": "9e33ba99",
   "metadata": {},
   "source": [
    "In this notebook, Data Science Tools and Ecosystem are summarized"
   ]
  },
  {
   "cell_type": "markdown",
   "id": "22d2fb72",
   "metadata": {},
   "source": [
    "Some of the popular languages that Data Scientists use are:\n",
    "1. Python.\n",
    "2. R.\n",
    "3. SQL.\n",
    "4. Java.\n",
    "5. JavaScript.\n",
    "6. Scala.\n",
    "7. C++.\n",
    "8. Julia."
   ]
  },
  {
   "cell_type": "markdown",
   "id": "ba3b5a9a",
   "metadata": {},
   "source": [
    "Some of the popular libraries that Data Scientists use are:\n",
    "1. TensorFlow.\n",
    "2. NumPy.\n",
    "3. SciPy.\n",
    "4. Pandas.\n",
    "5. IBM Db2 Database.\n",
    "6. MySQL.\n",
    "7. SciKit-Learn.\n",
    "8. PyTorch.\n",
    "9. dplyr."
   ]
  },
  {
   "cell_type": "markdown",
   "id": "3cd97cbf",
   "metadata": {},
   "source": [
    "|Data Science tools |\n",
    "|:-------------------|\n",
    "|Apache Hadoop      |\n",
    "|Apache Spark       |\n",
    "|TensorFlow         |\n",
    "|MangoDB            |"
   ]
  },
  {
   "cell_type": "markdown",
   "id": "9de814d8",
   "metadata": {},
   "source": [
    "### Examples of Arithmetic Expressions\n",
    "\n",
    "Arithmetic expressions are basic mathematical operations that include addition, subtraction, multiplication, and division.\n"
   ]
  },
  {
   "cell_type": "code",
   "execution_count": 4,
   "id": "fab1062a",
   "metadata": {},
   "outputs": [
    {
     "data": {
      "text/plain": [
       "17"
      ]
     },
     "execution_count": 4,
     "metadata": {},
     "output_type": "execute_result"
    }
   ],
   "source": [
    "# This expression multiplies 3 by 4 and then adds 5\n",
    "result = (3 * 4) + 5\n",
    "result"
   ]
  },
  {
   "cell_type": "code",
   "execution_count": 5,
   "id": "832d5b12",
   "metadata": {},
   "outputs": [
    {
     "data": {
      "text/plain": [
       "3.3333333333333335"
      ]
     },
     "execution_count": 5,
     "metadata": {},
     "output_type": "execute_result"
    }
   ],
   "source": [
    "# This expression converts 200 minutes to hours by dividing by 60\n",
    "hours = 200 / 60\n",
    "hours"
   ]
  },
  {
   "cell_type": "markdown",
   "id": "81a00c0a",
   "metadata": {},
   "source": [
    "**Objectives**\n",
    "- Collection of Items.\n",
    "- Ordered Elements.\n",
    "- Mutability.\n",
    "- Dynamic Size.\n",
    "- Iteration and Access.\n",
    "- Versatility.\n",
    "- Concatenation and Repetition.\n",
    "- Data Organization."
   ]
  },
  {
   "cell_type": "markdown",
   "id": "e1f7d577",
   "metadata": {},
   "source": [
    "## Author\n",
    "Moumita Sutradhar"
   ]
  },
  {
   "cell_type": "code",
   "execution_count": null,
   "id": "a8f0b900",
   "metadata": {},
   "outputs": [],
   "source": []
  }
 ],
 "metadata": {
  "kernelspec": {
   "display_name": "Python 3 (ipykernel)",
   "language": "python",
   "name": "python3"
  },
  "language_info": {
   "codemirror_mode": {
    "name": "ipython",
    "version": 3
   },
   "file_extension": ".py",
   "mimetype": "text/x-python",
   "name": "python",
   "nbconvert_exporter": "python",
   "pygments_lexer": "ipython3",
   "version": "3.11.5"
  }
 },
 "nbformat": 4,
 "nbformat_minor": 5
}
